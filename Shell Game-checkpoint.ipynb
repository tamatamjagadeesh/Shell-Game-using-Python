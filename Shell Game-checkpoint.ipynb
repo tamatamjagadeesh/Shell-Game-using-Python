{
 "cells": [
  {
   "cell_type": "markdown",
   "id": "02ed56f3-7fd8-4ae4-ba11-9e8f28f55b1d",
   "metadata": {},
   "source": [
    "# Shell Game"
   ]
  },
  {
   "cell_type": "code",
   "execution_count": 2,
   "id": "7ed975fd-a999-4ffa-a7b1-28ef7f426b45",
   "metadata": {},
   "outputs": [],
   "source": [
    "# first we need to import the shuffle\n",
    "from random import shuffle\n",
    "my_list = ['o','','']\n",
    "\n",
    "def shuffle_num(my_list):\n",
    "    shuffle(my_list)\n",
    "    return my_list"
   ]
  },
  {
   "cell_type": "code",
   "execution_count": 4,
   "id": "0b5a1dbf-4ec9-4d5f-b4d0-3c579868f422",
   "metadata": {},
   "outputs": [],
   "source": [
    "#we need to take the input from use\n",
    "\n",
    "def user_gess():\n",
    "    guess = ''\n",
    "    \n",
    "    while guess not in ['0','1','2']:\n",
    "        guess = input(\"Enter the number 0 or 1 or 2:\")\n",
    "        \n",
    "        return int(guess)"
   ]
  },
  {
   "cell_type": "code",
   "execution_count": 6,
   "id": "cd4da035-ede3-45b2-9634-f99b05dce3f6",
   "metadata": {},
   "outputs": [],
   "source": [
    "# now to check the user guess \n",
    "def check_guess(guess,my_list):\n",
    "    if my_list[guess] == 'o':\n",
    "        print(\"Correct\")\n",
    "        print(my_list)\n",
    "    else:\n",
    "        print(\"ohh!! Wrong Guess Better Luck Next time\")\n",
    "        print(my_list)"
   ]
  },
  {
   "cell_type": "code",
   "execution_count": 12,
   "id": "9274376d-7352-4efa-83dc-9af7e8f65df1",
   "metadata": {},
   "outputs": [
    {
     "name": "stdin",
     "output_type": "stream",
     "text": [
      "Enter the number 0 or 1 or 2: 1\n"
     ]
    },
    {
     "name": "stdout",
     "output_type": "stream",
     "text": [
      "Correct\n",
      "['', 'o', '']\n"
     ]
    }
   ],
   "source": [
    "# NOw we need to call the each functiom\n",
    "mixed_list=shuffle_num(my_list)\n",
    "guess_num = user_gess()\n",
    "\n",
    "check_guess(guess_num,mixed_list)"
   ]
  },
  {
   "cell_type": "code",
   "execution_count": null,
   "id": "4647208e-84d4-4a27-aa50-9881ed202018",
   "metadata": {},
   "outputs": [],
   "source": []
  }
 ],
 "metadata": {
  "kernelspec": {
   "display_name": "Python 3 (ipykernel)",
   "language": "python",
   "name": "python3"
  },
  "language_info": {
   "codemirror_mode": {
    "name": "ipython",
    "version": 3
   },
   "file_extension": ".py",
   "mimetype": "text/x-python",
   "name": "python",
   "nbconvert_exporter": "python",
   "pygments_lexer": "ipython3",
   "version": "3.11.7"
  }
 },
 "nbformat": 4,
 "nbformat_minor": 5
}
